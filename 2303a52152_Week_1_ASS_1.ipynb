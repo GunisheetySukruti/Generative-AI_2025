{
  "nbformat": 4,
  "nbformat_minor": 0,
  "metadata": {
    "colab": {
      "provenance": [],
      "authorship_tag": "ABX9TyNcqCrS2L2g2ZE+4P++zuyc",
      "include_colab_link": true
    },
    "kernelspec": {
      "name": "python3",
      "display_name": "Python 3"
    },
    "language_info": {
      "name": "python"
    }
  },
  "cells": [
    {
      "cell_type": "markdown",
      "metadata": {
        "id": "view-in-github",
        "colab_type": "text"
      },
      "source": [
        "<a href=\"https://colab.research.google.com/github/GunisheetySukruti/Generative-AI_2025/blob/main/2303a52152_Week_1_ASS_1.ipynb\" target=\"_parent\"><img src=\"https://colab.research.google.com/assets/colab-badge.svg\" alt=\"Open In Colab\"/></a>"
      ]
    },
    {
      "cell_type": "code",
      "execution_count": 1,
      "metadata": {
        "colab": {
          "base_uri": "https://localhost:8080/"
        },
        "id": "0-6zuDEx4lU3",
        "outputId": "e942a1c0-57d8-40aa-8ff0-bcb4985b125d"
      },
      "outputs": [
        {
          "output_type": "stream",
          "name": "stdout",
          "text": [
            "Mounted at /content/drive\n"
          ]
        }
      ],
      "source": [
        "from google.colab import drive\n",
        "drive.mount('/content/drive')"
      ]
    },
    {
      "cell_type": "markdown",
      "source": [
        "Queston-1"
      ],
      "metadata": {
        "id": "I2WVFB5xBnTP"
      }
    },
    {
      "cell_type": "code",
      "source": [
        "import numpy as np\n",
        "from sklearn.metrics import mean_absolute_error, mean_squared_error, mean_squared_error\n",
        "Yactual=np.array([20,30,40,50,60])\n",
        "Ypred = np.array([20.5,30.3,40.2,50.6,60.7])\n",
        "\n",
        "mae = np.mean(np.abs(Yactual-Ypred))\n",
        "\n",
        "mse=np.mean((Yactual - Ypred)**2)\n",
        "\n",
        "rmse = np.sqrt(mse)\n",
        "\n",
        "print(f\"Mean Absolute Error (MAE): {mae}\")\n",
        "print(f\"Mean Squared Error (MSE): {mse}\")\n",
        "print(f'Root Mean Squared Error (RMSE): {rmse}')\n",
        "\n",
        "mae_sklearn = mean_absolute_error(Yactual, Ypred)\n",
        "mse_sklearn = mean_squared_error(Yactual, Ypred)\n",
        "rmse_sklearn = np.sqrt(mse_sklearn)\n",
        "\n",
        "print(f'\\nSklearn Mean Absolute Error (MAE): {mae_sklearn}')\n",
        "print(f'Sklearn Mean Squared Eroor (MSE): {mse_sklearn}')\n",
        "print(f'Sklearn Root Mean Squared Error(RMSE): {rmse_sklearn}')"
      ],
      "metadata": {
        "colab": {
          "base_uri": "https://localhost:8080/"
        },
        "id": "gnuD_yPd-Qf0",
        "outputId": "75cd9ff5-79f2-4432-aed5-f3a2ac94e0fb"
      },
      "execution_count": 7,
      "outputs": [
        {
          "output_type": "stream",
          "name": "stdout",
          "text": [
            "Mean Absolute Error (MAE): 0.4600000000000016\n",
            "Mean Squared Error (MSE): 0.24600000000000147\n",
            "Root Mean Squared Error (RMSE): 0.49598387070549127\n",
            "\n",
            "Sklearn Mean Absolute Error (MAE): 0.4600000000000016\n",
            "Sklearn Mean Squared Eroor (MSE): 0.24600000000000147\n",
            "Sklearn Root Mean Squared Error(RMSE): 0.49598387070549127\n"
          ]
        }
      ]
    },
    {
      "cell_type": "markdown",
      "source": [
        "Question-2\n"
      ],
      "metadata": {
        "id": "5OAi7i5cBpR_"
      }
    },
    {
      "cell_type": "code",
      "source": [
        "import numpy as np\n",
        "from sklearn.metrics import accuracy_score, precision_score, recall_score, f1_score\n",
        "Y_actual = [0, 0, 1, 1, 2, 0, 0, 0, 1, 0, 2, 0, 0, 1, 1, 2, 2, 1, 0, 2, 1, 0, 2, 2, 0, 2, 1, 2, 2, 2]\n",
        "Y_pred = [0, 0, 1, 0, 2, 0, 0, 1, 1, 2, 2, 1, 0, 2, 1, 0, 2, 2, 0, 2, 1, 2, 2, 2, 0, 2, 1, 2, 2, 2]\n",
        "\n",
        "def calculate_metrics_from_scratch(y_actual, y_pred):\n",
        "    n = len(y_actual)\n",
        "    tp = [0] * 3\n",
        "    fp = [0] * 3\n",
        "    fn = [0] * 3\n",
        "\n",
        "    for a, p in zip(y_actual, y_pred):\n",
        "        if a == p:\n",
        "            tp[a] += 1\n",
        "        else:\n",
        "            fp[p] += 1\n",
        "            fn[a] += 1\n",
        "\n",
        "    accuracy = sum(tp) / n\n",
        "\n",
        "    precision = [tp[i] / (tp[i] + fp[i]) if (tp[i] + fp[i]) > 0 else 0 for i in range(3)]\n",
        "    recall = [tp[i] / (tp[i] + fn[i]) if (tp[i] + fn[i]) > 0 else 0 for i in range(3)]\n",
        "    f1 = [\n",
        "        2 * (precision[i] * recall[i]) / (precision[i] + recall[i]) if (precision[i] + recall[i]) > 0 else 0\n",
        "        for i in range(3)\n",
        "    ]\n",
        "\n",
        "    macro_precision = sum(precision) / 3\n",
        "    macro_recall = sum(recall) / 3\n",
        "    macro_f1 = sum(f1) / 3\n",
        "\n",
        "    return accuracy, macro_precision, macro_recall, macro_f1\n",
        "\n",
        "accuracy_scratch, precision_scratch, recall_scratch, f1_scratch = calculate_metrics_from_scratch(Y_actual, Y_pred)\n",
        "\n",
        "accuracy_lib = accuracy_score(Y_actual, Y_pred)\n",
        "precision_lib = precision_score(Y_actual, Y_pred, average=\"macro\")\n",
        "recall_lib = recall_score(Y_actual, Y_pred, average=\"macro\")\n",
        "f1_lib = f1_score(Y_actual, Y_pred, average=\"macro\")\n",
        "\n",
        "print(\"Evaluation Metrics Calculated From Scratch:\")\n",
        "print(f\"Accuracy: {accuracy_scratch}\")\n",
        "print(f\"Precision (Macro): {precision_scratch}\")\n",
        "print(f\"Recall (Macro): {recall_scratch}\")\n",
        "print(f\"F1 Score (Macro): {f1_scratch}\")\n",
        "\n",
        "print(\"\\nEvaluation Metrics Calculated Using Libraries:\")\n",
        "print(f\"Accuracy: {accuracy_lib}\")\n",
        "print(f\"Precision (Macro): {precision_lib}\")\n",
        "print(f\"Recall (Macro): {recall_lib}\")\n",
        "print(f\"F1 Score (Macro): {f1_lib}\")"
      ],
      "metadata": {
        "colab": {
          "base_uri": "https://localhost:8080/"
        },
        "id": "ueGHtU63BrnO",
        "outputId": "446e6a7c-4b53-456e-c144-1e7bd680c7b5"
      },
      "execution_count": 10,
      "outputs": [
        {
          "output_type": "stream",
          "name": "stdout",
          "text": [
            "Evaluation Metrics Calculated From Scratch:\n",
            "Accuracy: 0.7333333333333333\n",
            "Precision (Macro): 0.7354497354497355\n",
            "Recall (Macro): 0.7234848484848485\n",
            "F1 Score (Macro): 0.7222222222222223\n",
            "\n",
            "Evaluation Metrics Calculated Using Libraries:\n",
            "Accuracy: 0.7333333333333333\n",
            "Precision (Macro): 0.7354497354497355\n",
            "Recall (Macro): 0.7234848484848485\n",
            "F1 Score (Macro): 0.7222222222222223\n"
          ]
        }
      ]
    }
  ]
}