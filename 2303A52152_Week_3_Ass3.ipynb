{
  "nbformat": 4,
  "nbformat_minor": 0,
  "metadata": {
    "colab": {
      "provenance": [],
      "authorship_tag": "ABX9TyMX87pxkt0ZIYvEHeK7ntpW",
      "include_colab_link": true
    },
    "kernelspec": {
      "name": "python3",
      "display_name": "Python 3"
    },
    "language_info": {
      "name": "python"
    }
  },
  "cells": [
    {
      "cell_type": "markdown",
      "metadata": {
        "id": "view-in-github",
        "colab_type": "text"
      },
      "source": [
        "<a href=\"https://colab.research.google.com/github/GunisheetySukruti/Generative-AI_2025/blob/main/2303A52152_Week_3_Ass3.ipynb\" target=\"_parent\"><img src=\"https://colab.research.google.com/assets/colab-badge.svg\" alt=\"Open In Colab\"/></a>"
      ]
    },
    {
      "cell_type": "code",
      "execution_count": 1,
      "metadata": {
        "colab": {
          "base_uri": "https://localhost:8080/"
        },
        "id": "n1XK9Va6BlAO",
        "outputId": "edee3590-6773-494a-ea40-1c083eeb7ca7"
      },
      "outputs": [
        {
          "output_type": "stream",
          "name": "stdout",
          "text": [
            "Mounted at /content/drive\n"
          ]
        }
      ],
      "source": [
        "from google.colab import drive\n",
        "drive.mount('/content/drive')"
      ]
    },
    {
      "cell_type": "markdown",
      "source": [
        "Question-1\n"
      ],
      "metadata": {
        "id": "JGqlgm-AJRWh"
      }
    },
    {
      "cell_type": "code",
      "source": [
        "def f(x):\n",
        "    return 5 * (x ** 4) + 3 * (x ** 2) + 10\n",
        "\n",
        "def f_prime(x):\n",
        "    return 20 * (x ** 3) + 6 * x\n",
        "\n",
        "def gradient_descent(learning_rate, initial_x, iterations):\n",
        "    x = initial_x\n",
        "    for i in range(iterations):\n",
        "        grad = f_prime(x)\n",
        "        x = x - learning_rate * grad\n",
        "        print(f\"Iteration {i+1}: x = {x:.3f}, f(x) = {f(x):.3f}\")\n",
        "    return x\n",
        "\n",
        "\n",
        "initial_x = 1.0\n",
        "learning_rate = 0.01\n",
        "iterations = 25\n",
        "\n",
        "\n",
        "min_x = gradient_descent(learning_rate, initial_x, iterations)\n",
        "print(f\"Minimum value of x: {min_x:.3f}\")"
      ],
      "metadata": {
        "colab": {
          "base_uri": "https://localhost:8080/"
        },
        "id": "GPyO0XRXCAeW",
        "outputId": "25591301-1df3-4bac-9a78-60f3a8d422e7"
      },
      "execution_count": 13,
      "outputs": [
        {
          "output_type": "stream",
          "name": "stdout",
          "text": [
            "Iteration 1: x = 0.740, f(x) = 13.142\n",
            "Iteration 2: x = 0.615, f(x) = 11.846\n",
            "Iteration 3: x = 0.531, f(x) = 11.245\n",
            "Iteration 4: x = 0.469, f(x) = 10.904\n",
            "Iteration 5: x = 0.421, f(x) = 10.687\n",
            "Iteration 6: x = 0.380, f(x) = 10.539\n",
            "Iteration 7: x = 0.347, f(x) = 10.433\n",
            "Iteration 8: x = 0.317, f(x) = 10.353\n",
            "Iteration 9: x = 0.292, f(x) = 10.292\n",
            "Iteration 10: x = 0.270, f(x) = 10.244\n",
            "Iteration 11: x = 0.249, f(x) = 10.206\n",
            "Iteration 12: x = 0.231, f(x) = 10.175\n",
            "Iteration 13: x = 0.215, f(x) = 10.149\n",
            "Iteration 14: x = 0.200, f(x) = 10.128\n",
            "Iteration 15: x = 0.187, f(x) = 10.110\n",
            "Iteration 16: x = 0.174, f(x) = 10.095\n",
            "Iteration 17: x = 0.163, f(x) = 10.083\n",
            "Iteration 18: x = 0.152, f(x) = 10.072\n",
            "Iteration 19: x = 0.142, f(x) = 10.063\n",
            "Iteration 20: x = 0.133, f(x) = 10.055\n",
            "Iteration 21: x = 0.125, f(x) = 10.048\n",
            "Iteration 22: x = 0.117, f(x) = 10.042\n",
            "Iteration 23: x = 0.109, f(x) = 10.037\n",
            "Iteration 24: x = 0.103, f(x) = 10.032\n",
            "Iteration 25: x = 0.096, f(x) = 10.028\n",
            "Minimum value of x: 0.096\n"
          ]
        }
      ]
    },
    {
      "cell_type": "markdown",
      "source": [
        "Question-2\n"
      ],
      "metadata": {
        "id": "GpvucWvOJT-N"
      }
    },
    {
      "cell_type": "code",
      "source": [
        "import math\n",
        "\n",
        "def g(x, y):\n",
        "    return 3 * x**2 + 5 * math.exp(-y) + 10\n",
        "\n",
        "def grad_g(x, y):\n",
        "\n",
        "    grad_x = 6 * x\n",
        "    grad_y = -5 * math.exp(-y)\n",
        "    return grad_x, grad_y\n",
        "\n",
        "def gradient_descent(learning_rate=0.01, initial_x=1.0, initial_y=1.0, num_iterations=100):\n",
        "    x = initial_x\n",
        "    y = initial_y\n",
        "\n",
        "    for iteration in range(num_iterations):\n",
        "        grad_x, grad_y = grad_g(x, y)\n",
        "\n",
        "        x = x - learning_rate * grad_x\n",
        "        y = y - learning_rate * grad_y\n",
        "\n",
        "        print(f\"Iteration {iteration + 1}: x = {x:.3f}, y = {y:.3f}, g(x, y) = {g(x, y):.3f}\")\n",
        "\n",
        "    return x, y\n",
        "\n",
        "initial_x = 1.0\n",
        "initial_y = 1.0\n",
        "learning_rate = 0.01\n",
        "num_iterations = 50\n",
        "\n",
        "optimal_x, optimal_y = gradient_descent(learning_rate, initial_x, initial_y, num_iterations)\n",
        "\n",
        "\n",
        "print(f\"\\nThe value of x that minimizes g(x, y) is: {optimal_x:.3f}\")\n",
        "print(f\"The value of y that minimizes g(x, y) is: {optimal_y:.3f}\")\n",
        "print(f\"The minimum value of g(x, y) is: {g(optimal_x, optimal_y):.3f}\")\n"
      ],
      "metadata": {
        "colab": {
          "base_uri": "https://localhost:8080/"
        },
        "id": "JLjWJJAGIB6s",
        "outputId": "10bdf0f1-18fa-4683-f94b-a4800d478c4c"
      },
      "execution_count": 30,
      "outputs": [
        {
          "output_type": "stream",
          "name": "stdout",
          "text": [
            "Iteration 1: x = 0.940, y = 1.018, g(x, y) = 14.457\n",
            "Iteration 2: x = 0.884, y = 1.036, g(x, y) = 14.116\n",
            "Iteration 3: x = 0.831, y = 1.054, g(x, y) = 13.812\n",
            "Iteration 4: x = 0.781, y = 1.072, g(x, y) = 13.541\n",
            "Iteration 5: x = 0.734, y = 1.089, g(x, y) = 13.299\n",
            "Iteration 6: x = 0.690, y = 1.106, g(x, y) = 13.083\n",
            "Iteration 7: x = 0.648, y = 1.122, g(x, y) = 12.890\n",
            "Iteration 8: x = 0.610, y = 1.138, g(x, y) = 12.716\n",
            "Iteration 9: x = 0.573, y = 1.154, g(x, y) = 12.561\n",
            "Iteration 10: x = 0.539, y = 1.170, g(x, y) = 12.422\n",
            "Iteration 11: x = 0.506, y = 1.186, g(x, y) = 12.297\n",
            "Iteration 12: x = 0.476, y = 1.201, g(x, y) = 12.184\n",
            "Iteration 13: x = 0.447, y = 1.216, g(x, y) = 12.082\n",
            "Iteration 14: x = 0.421, y = 1.231, g(x, y) = 11.991\n",
            "Iteration 15: x = 0.395, y = 1.245, g(x, y) = 11.908\n",
            "Iteration 16: x = 0.372, y = 1.260, g(x, y) = 11.833\n",
            "Iteration 17: x = 0.349, y = 1.274, g(x, y) = 11.765\n",
            "Iteration 18: x = 0.328, y = 1.288, g(x, y) = 11.703\n",
            "Iteration 19: x = 0.309, y = 1.302, g(x, y) = 11.646\n",
            "Iteration 20: x = 0.290, y = 1.315, g(x, y) = 11.594\n",
            "Iteration 21: x = 0.273, y = 1.329, g(x, y) = 11.547\n",
            "Iteration 22: x = 0.256, y = 1.342, g(x, y) = 11.504\n",
            "Iteration 23: x = 0.241, y = 1.355, g(x, y) = 11.464\n",
            "Iteration 24: x = 0.227, y = 1.368, g(x, y) = 11.427\n",
            "Iteration 25: x = 0.213, y = 1.381, g(x, y) = 11.393\n",
            "Iteration 26: x = 0.200, y = 1.393, g(x, y) = 11.361\n",
            "Iteration 27: x = 0.188, y = 1.406, g(x, y) = 11.332\n",
            "Iteration 28: x = 0.177, y = 1.418, g(x, y) = 11.305\n",
            "Iteration 29: x = 0.166, y = 1.430, g(x, y) = 11.279\n",
            "Iteration 30: x = 0.156, y = 1.442, g(x, y) = 11.255\n",
            "Iteration 31: x = 0.147, y = 1.454, g(x, y) = 11.233\n",
            "Iteration 32: x = 0.138, y = 1.466, g(x, y) = 11.212\n",
            "Iteration 33: x = 0.130, y = 1.477, g(x, y) = 11.192\n",
            "Iteration 34: x = 0.122, y = 1.489, g(x, y) = 11.173\n",
            "Iteration 35: x = 0.115, y = 1.500, g(x, y) = 11.155\n",
            "Iteration 36: x = 0.108, y = 1.511, g(x, y) = 11.138\n",
            "Iteration 37: x = 0.101, y = 1.522, g(x, y) = 11.122\n",
            "Iteration 38: x = 0.095, y = 1.533, g(x, y) = 11.107\n",
            "Iteration 39: x = 0.090, y = 1.544, g(x, y) = 11.092\n",
            "Iteration 40: x = 0.084, y = 1.554, g(x, y) = 11.078\n",
            "Iteration 41: x = 0.079, y = 1.565, g(x, y) = 11.064\n",
            "Iteration 42: x = 0.074, y = 1.575, g(x, y) = 11.051\n",
            "Iteration 43: x = 0.070, y = 1.586, g(x, y) = 11.039\n",
            "Iteration 44: x = 0.066, y = 1.596, g(x, y) = 11.026\n",
            "Iteration 45: x = 0.062, y = 1.606, g(x, y) = 11.015\n",
            "Iteration 46: x = 0.058, y = 1.616, g(x, y) = 11.003\n",
            "Iteration 47: x = 0.055, y = 1.626, g(x, y) = 10.992\n",
            "Iteration 48: x = 0.051, y = 1.636, g(x, y) = 10.982\n",
            "Iteration 49: x = 0.048, y = 1.646, g(x, y) = 10.971\n",
            "Iteration 50: x = 0.045, y = 1.655, g(x, y) = 10.961\n",
            "\n",
            "The value of x that minimizes g(x, y) is: 0.045\n",
            "The value of y that minimizes g(x, y) is: 1.655\n",
            "The minimum value of g(x, y) is: 10.961\n"
          ]
        }
      ]
    },
    {
      "cell_type": "markdown",
      "source": [
        "Question-3"
      ],
      "metadata": {
        "id": "dOm-8RmkQeAQ"
      }
    },
    {
      "cell_type": "code",
      "source": [
        "import math\n",
        "\n",
        "def z(x):\n",
        "    return 1 / (1 + math.exp(-x))\n",
        "\n",
        "def grad_z(x):\n",
        "    zx = z(x)\n",
        "    return zx * (1 - zx)\n",
        "def gradient_descent(learning_rate=0.01, initial_x=1.0, num_iterations=100):\n",
        "    x = initial_x\n",
        "\n",
        "    for iteration in range(num_iterations):\n",
        "        grad = grad_z(x)\n",
        "\n",
        "        x = x - learning_rate * grad\n",
        "\n",
        "        print(f\"Iteration {iteration + 1}: x = {x:.3f}, z(x) = {z(x):.3f}\")\n",
        "\n",
        "    return x\n",
        "\n",
        "initial_x = 1.0\n",
        "learning_rate = 0.01\n",
        "num_iterations = 40\n",
        "\n",
        "optimal_x = gradient_descent(learning_rate, initial_x, num_iterations)\n",
        "\n",
        "# Print the result\n",
        "print(f\"\\nThe value of x that minimizes z(x) is: {optimal_x:.3f}\")\n",
        "print(f\"The minimum value of z(x) is: {z(optimal_x):.3f}\")\n"
      ],
      "metadata": {
        "colab": {
          "base_uri": "https://localhost:8080/"
        },
        "id": "Kas7JOB4JXKE",
        "outputId": "df1068f6-aee5-4058-8724-ae38d20d440f"
      },
      "execution_count": 39,
      "outputs": [
        {
          "output_type": "stream",
          "name": "stdout",
          "text": [
            "Iteration 1: x = 0.998, z(x) = 0.731\n",
            "Iteration 2: x = 0.996, z(x) = 0.730\n",
            "Iteration 3: x = 0.994, z(x) = 0.730\n",
            "Iteration 4: x = 0.992, z(x) = 0.730\n",
            "Iteration 5: x = 0.990, z(x) = 0.729\n",
            "Iteration 6: x = 0.988, z(x) = 0.729\n",
            "Iteration 7: x = 0.986, z(x) = 0.728\n",
            "Iteration 8: x = 0.984, z(x) = 0.728\n",
            "Iteration 9: x = 0.982, z(x) = 0.728\n",
            "Iteration 10: x = 0.980, z(x) = 0.727\n",
            "Iteration 11: x = 0.978, z(x) = 0.727\n",
            "Iteration 12: x = 0.976, z(x) = 0.726\n",
            "Iteration 13: x = 0.974, z(x) = 0.726\n",
            "Iteration 14: x = 0.972, z(x) = 0.726\n",
            "Iteration 15: x = 0.970, z(x) = 0.725\n",
            "Iteration 16: x = 0.968, z(x) = 0.725\n",
            "Iteration 17: x = 0.966, z(x) = 0.724\n",
            "Iteration 18: x = 0.964, z(x) = 0.724\n",
            "Iteration 19: x = 0.962, z(x) = 0.724\n",
            "Iteration 20: x = 0.960, z(x) = 0.723\n",
            "Iteration 21: x = 0.958, z(x) = 0.723\n",
            "Iteration 22: x = 0.956, z(x) = 0.722\n",
            "Iteration 23: x = 0.954, z(x) = 0.722\n",
            "Iteration 24: x = 0.952, z(x) = 0.722\n",
            "Iteration 25: x = 0.950, z(x) = 0.721\n",
            "Iteration 26: x = 0.948, z(x) = 0.721\n",
            "Iteration 27: x = 0.946, z(x) = 0.720\n",
            "Iteration 28: x = 0.944, z(x) = 0.720\n",
            "Iteration 29: x = 0.942, z(x) = 0.720\n",
            "Iteration 30: x = 0.940, z(x) = 0.719\n",
            "Iteration 31: x = 0.938, z(x) = 0.719\n",
            "Iteration 32: x = 0.936, z(x) = 0.718\n",
            "Iteration 33: x = 0.934, z(x) = 0.718\n",
            "Iteration 34: x = 0.932, z(x) = 0.718\n",
            "Iteration 35: x = 0.930, z(x) = 0.717\n",
            "Iteration 36: x = 0.928, z(x) = 0.717\n",
            "Iteration 37: x = 0.926, z(x) = 0.716\n",
            "Iteration 38: x = 0.924, z(x) = 0.716\n",
            "Iteration 39: x = 0.922, z(x) = 0.715\n",
            "Iteration 40: x = 0.920, z(x) = 0.715\n",
            "\n",
            "The value of x that minimizes z(x) is: 0.920\n",
            "The minimum value of z(x) is: 0.715\n"
          ]
        }
      ]
    },
    {
      "cell_type": "markdown",
      "source": [
        "Question-4"
      ],
      "metadata": {
        "id": "W_BzyALnQkSV"
      }
    },
    {
      "cell_type": "code",
      "source": [
        "def sigmoid(x):\n",
        "    exp_x = 1 / (1 + (2.71828 ** -x))\n",
        "    return 1 / (1 + exp_x)\n",
        "\n",
        "def sigmoid_prime(x):\n",
        "    z = sigmoid(x)\n",
        "    return z * (1 - z)\n",
        "\n",
        "def gradient_descent(learning_rate, initial_x, iterations):\n",
        "    x = initial_x\n",
        "    for i in range(iterations):\n",
        "        grad = sigmoid_prime(x)\n",
        "        x = x - learning_rate * grad\n",
        "\n",
        "        print(f\"Iteration {i+1}: x = {x:.3f}, z(x) = {sigmoid(x):.3f}\")\n",
        "\n",
        "    return x\n",
        "\n",
        "initial_x = 1.0\n",
        "learning_rate = 0.1\n",
        "iterations = 40\n",
        "\n",
        "min_x = gradient_descent(learning_rate, initial_x, iterations)\n",
        "print(f\"\\nMinimum value of x: {min_x:.3f}\")\n"
      ],
      "metadata": {
        "colab": {
          "base_uri": "https://localhost:8080/"
        },
        "id": "6rSjhOhFLfNM",
        "outputId": "be3883cf-5402-4e7a-e028-e237de12996e"
      },
      "execution_count": 44,
      "outputs": [
        {
          "output_type": "stream",
          "name": "stdout",
          "text": [
            "Iteration 1: x = 0.976, z(x) = 0.579\n",
            "Iteration 2: x = 0.951, z(x) = 0.581\n",
            "Iteration 3: x = 0.927, z(x) = 0.583\n",
            "Iteration 4: x = 0.903, z(x) = 0.584\n",
            "Iteration 5: x = 0.878, z(x) = 0.586\n",
            "Iteration 6: x = 0.854, z(x) = 0.588\n",
            "Iteration 7: x = 0.830, z(x) = 0.590\n",
            "Iteration 8: x = 0.806, z(x) = 0.591\n",
            "Iteration 9: x = 0.781, z(x) = 0.593\n",
            "Iteration 10: x = 0.757, z(x) = 0.595\n",
            "Iteration 11: x = 0.733, z(x) = 0.597\n",
            "Iteration 12: x = 0.709, z(x) = 0.599\n",
            "Iteration 13: x = 0.685, z(x) = 0.601\n",
            "Iteration 14: x = 0.661, z(x) = 0.603\n",
            "Iteration 15: x = 0.637, z(x) = 0.605\n",
            "Iteration 16: x = 0.613, z(x) = 0.607\n",
            "Iteration 17: x = 0.589, z(x) = 0.609\n",
            "Iteration 18: x = 0.566, z(x) = 0.611\n",
            "Iteration 19: x = 0.542, z(x) = 0.613\n",
            "Iteration 20: x = 0.518, z(x) = 0.615\n",
            "Iteration 21: x = 0.494, z(x) = 0.617\n",
            "Iteration 22: x = 0.471, z(x) = 0.619\n",
            "Iteration 23: x = 0.447, z(x) = 0.621\n",
            "Iteration 24: x = 0.424, z(x) = 0.623\n",
            "Iteration 25: x = 0.400, z(x) = 0.625\n",
            "Iteration 26: x = 0.377, z(x) = 0.628\n",
            "Iteration 27: x = 0.353, z(x) = 0.630\n",
            "Iteration 28: x = 0.330, z(x) = 0.632\n",
            "Iteration 29: x = 0.307, z(x) = 0.634\n",
            "Iteration 30: x = 0.284, z(x) = 0.637\n",
            "Iteration 31: x = 0.260, z(x) = 0.639\n",
            "Iteration 32: x = 0.237, z(x) = 0.641\n",
            "Iteration 33: x = 0.214, z(x) = 0.644\n",
            "Iteration 34: x = 0.191, z(x) = 0.646\n",
            "Iteration 35: x = 0.169, z(x) = 0.648\n",
            "Iteration 36: x = 0.146, z(x) = 0.651\n",
            "Iteration 37: x = 0.123, z(x) = 0.653\n",
            "Iteration 38: x = 0.100, z(x) = 0.656\n",
            "Iteration 39: x = 0.078, z(x) = 0.658\n",
            "Iteration 40: x = 0.055, z(x) = 0.661\n",
            "\n",
            "Minimum value of x: 0.055\n"
          ]
        }
      ]
    },
    {
      "cell_type": "code",
      "source": [
        "# Defining the model function\n",
        "def model(x, M, C):\n",
        "    return M * x + C\n",
        "\n",
        "# Derivative of the Squared Error with respect to M\n",
        "def dSE_dM(x, y, M, C):\n",
        "    return -2 * x * (y - model(x, M, C))\n",
        "\n",
        "# Derivative of the Squared Error with respect to C\n",
        "def dSE_dC(x, y, M, C):\n",
        "    return -2 * (y - model(x, M, C))\n",
        "\n",
        "# Gradient Descent function\n",
        "def gradient_descent(X, Y, learning_rate, max_iterations, initial_M, initial_C):\n",
        "    M, C = initial_M, initial_C\n",
        "    for _ in range(max_iterations):\n",
        "        for x, y in zip(X, Y):\n",
        "            M = M - learning_rate * dSE_dM(x, y, M, C)\n",
        "            C = C - learning_rate * dSE_dC(x, y, M, C)\n",
        "    return M, C\n",
        "\n",
        "# Sample data (X, Y)\n",
        "X = [1, 2, 3, 4]\n",
        "Y = [2, 4, 6, 8]\n",
        "\n",
        "# Parameters\n",
        "learning_rate = 0.01\n",
        "max_iterations = 1000\n",
        "initial_M = 0.0\n",
        "initial_C = 0.0\n",
        "\n",
        "# Find the optimal values of M and C\n",
        "optimal_M, optimal_C = gradient_descent(X, Y, learning_rate, max_iterations, initial_M, initial_C)\n",
        "print(\"The optimal values of M and C are:\", optimal_M, optimal_C)"
      ],
      "metadata": {
        "colab": {
          "base_uri": "https://localhost:8080/"
        },
        "id": "pkyrKk1VPi4w",
        "outputId": "78d3c2e9-e1e4-4938-d8af-81cd749b1c94"
      },
      "execution_count": 43,
      "outputs": [
        {
          "output_type": "stream",
          "name": "stdout",
          "text": [
            "The optimal values of M and C are: 1.9999998815747182 3.7962766099098773e-07\n"
          ]
        }
      ]
    }
  ]
}